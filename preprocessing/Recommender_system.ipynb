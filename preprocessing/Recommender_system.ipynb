{
 "cells": [
  {
   "cell_type": "code",
   "execution_count": 1,
   "id": "88d1ce9e",
   "metadata": {},
   "outputs": [],
   "source": [
    "import pandas as pd\n",
    "import numpy as np"
   ]
  },
  {
   "cell_type": "code",
   "execution_count": 2,
   "id": "696d4163",
   "metadata": {},
   "outputs": [],
   "source": [
    "df = pd.read_csv('movies_data.csv')"
   ]
  },
  {
   "cell_type": "code",
   "execution_count": 3,
   "id": "0638502f",
   "metadata": {},
   "outputs": [
    {
     "data": {
      "text/plain": [
       "\"The King's Daughter\""
      ]
     },
     "execution_count": 3,
     "metadata": {},
     "output_type": "execute_result"
    }
   ],
   "source": [
    "df['movie_title'][4]"
   ]
  },
  {
   "cell_type": "code",
   "execution_count": 4,
   "id": "a9085cf0",
   "metadata": {},
   "outputs": [
    {
     "data": {
      "text/html": [
       "<div>\n",
       "<style scoped>\n",
       "    .dataframe tbody tr th:only-of-type {\n",
       "        vertical-align: middle;\n",
       "    }\n",
       "\n",
       "    .dataframe tbody tr th {\n",
       "        vertical-align: top;\n",
       "    }\n",
       "\n",
       "    .dataframe thead th {\n",
       "        text-align: right;\n",
       "    }\n",
       "</style>\n",
       "<table border=\"1\" class=\"dataframe\">\n",
       "  <thead>\n",
       "    <tr style=\"text-align: right;\">\n",
       "      <th></th>\n",
       "      <th>director_name</th>\n",
       "      <th>actor_1_name</th>\n",
       "      <th>actor_2_name</th>\n",
       "      <th>actor_3_name</th>\n",
       "      <th>genres</th>\n",
       "      <th>movie_title</th>\n",
       "      <th>comb</th>\n",
       "    </tr>\n",
       "  </thead>\n",
       "  <tbody>\n",
       "    <tr>\n",
       "      <th>0</th>\n",
       "      <td>JoachimRønning</td>\n",
       "      <td>JohnnyDepp</td>\n",
       "      <td>JavierBardem</td>\n",
       "      <td>GeoffreyRush</td>\n",
       "      <td>adventure,action,fantasy,comedy</td>\n",
       "      <td>Pirates of the Caribbean: Dead Men Tell No Tales</td>\n",
       "      <td>Johnny Depp Javier Bardem Geoffrey Rush Joachi...</td>\n",
       "    </tr>\n",
       "    <tr>\n",
       "      <th>1</th>\n",
       "      <td>ZackSnyder</td>\n",
       "      <td>BenAffleck</td>\n",
       "      <td>HenryCavill</td>\n",
       "      <td>GalGadot</td>\n",
       "      <td>action,adventure,fantasy,science fiction</td>\n",
       "      <td>Justice League</td>\n",
       "      <td>Ben Affleck Henry Cavill Gal Gadot Zack Snyder...</td>\n",
       "    </tr>\n",
       "    <tr>\n",
       "      <th>2</th>\n",
       "      <td>TaikaWaititi</td>\n",
       "      <td>ChrisHemsworth</td>\n",
       "      <td>TomHiddleston</td>\n",
       "      <td>CateBlanchett</td>\n",
       "      <td>action,adventure,fantasy,science fiction</td>\n",
       "      <td>Thor: Ragnarok</td>\n",
       "      <td>Chris Hemsworth Tom Hiddleston Cate Blanchett ...</td>\n",
       "    </tr>\n",
       "    <tr>\n",
       "      <th>3</th>\n",
       "      <td>JamesGunn</td>\n",
       "      <td>ChrisPratt</td>\n",
       "      <td>ZoeSaldana</td>\n",
       "      <td>DaveBautista</td>\n",
       "      <td>action,adventure,comedy,science fiction</td>\n",
       "      <td>Guardians of the Galaxy Vol. 2</td>\n",
       "      <td>Chris Pratt Zoe Saldana Dave Bautista James Gu...</td>\n",
       "    </tr>\n",
       "    <tr>\n",
       "      <th>4</th>\n",
       "      <td>SeanMcNamara</td>\n",
       "      <td>PierceBrosnan</td>\n",
       "      <td>WilliamHurt</td>\n",
       "      <td>BenjaminWalker</td>\n",
       "      <td>fantasy,action,adventure</td>\n",
       "      <td>The King's Daughter</td>\n",
       "      <td>Pierce Brosnan William Hurt Benjamin Walker Se...</td>\n",
       "    </tr>\n",
       "  </tbody>\n",
       "</table>\n",
       "</div>"
      ],
      "text/plain": [
       "    director_name    actor_1_name   actor_2_name    actor_3_name  \\\n",
       "0  JoachimRønning      JohnnyDepp   JavierBardem    GeoffreyRush   \n",
       "1      ZackSnyder      BenAffleck    HenryCavill        GalGadot   \n",
       "2    TaikaWaititi  ChrisHemsworth  TomHiddleston   CateBlanchett   \n",
       "3       JamesGunn      ChrisPratt     ZoeSaldana    DaveBautista   \n",
       "4    SeanMcNamara   PierceBrosnan    WilliamHurt  BenjaminWalker   \n",
       "\n",
       "                                     genres  \\\n",
       "0           adventure,action,fantasy,comedy   \n",
       "1  action,adventure,fantasy,science fiction   \n",
       "2  action,adventure,fantasy,science fiction   \n",
       "3   action,adventure,comedy,science fiction   \n",
       "4                  fantasy,action,adventure   \n",
       "\n",
       "                                        movie_title  \\\n",
       "0  Pirates of the Caribbean: Dead Men Tell No Tales   \n",
       "1                                    Justice League   \n",
       "2                                    Thor: Ragnarok   \n",
       "3                    Guardians of the Galaxy Vol. 2   \n",
       "4                               The King's Daughter   \n",
       "\n",
       "                                                comb  \n",
       "0  Johnny Depp Javier Bardem Geoffrey Rush Joachi...  \n",
       "1  Ben Affleck Henry Cavill Gal Gadot Zack Snyder...  \n",
       "2  Chris Hemsworth Tom Hiddleston Cate Blanchett ...  \n",
       "3  Chris Pratt Zoe Saldana Dave Bautista James Gu...  \n",
       "4  Pierce Brosnan William Hurt Benjamin Walker Se...  "
      ]
     },
     "execution_count": 4,
     "metadata": {},
     "output_type": "execute_result"
    }
   ],
   "source": [
    "df.head()"
   ]
  },
  {
   "cell_type": "code",
   "execution_count": 5,
   "id": "cc424096",
   "metadata": {},
   "outputs": [],
   "source": [
    "import nltk\n",
    "from nltk.stem import PorterStemmer"
   ]
  },
  {
   "cell_type": "code",
   "execution_count": 6,
   "id": "2f7f5a75",
   "metadata": {},
   "outputs": [],
   "source": [
    "ps = PorterStemmer()\n",
    "def stem(text):\n",
    "    y=[]\n",
    "    for i in text.split():\n",
    "        y.append(ps.stem(i))\n",
    "    return \" \".join(y)"
   ]
  },
  {
   "cell_type": "code",
   "execution_count": 7,
   "id": "b08db511",
   "metadata": {},
   "outputs": [],
   "source": [
    "df['comb'] = df['comb'].apply(stem)"
   ]
  },
  {
   "cell_type": "code",
   "execution_count": 8,
   "id": "e6c24d26",
   "metadata": {},
   "outputs": [],
   "source": [
    "from sklearn.feature_extraction.text import CountVectorizer"
   ]
  },
  {
   "cell_type": "code",
   "execution_count": 9,
   "id": "b083056a",
   "metadata": {},
   "outputs": [],
   "source": [
    "cv = CountVectorizer(max_features=5000,stop_words='english')"
   ]
  },
  {
   "cell_type": "code",
   "execution_count": 10,
   "id": "868e9d00",
   "metadata": {},
   "outputs": [],
   "source": [
    "vectors = cv.fit_transform(df['comb']).toarray()"
   ]
  },
  {
   "cell_type": "code",
   "execution_count": 11,
   "id": "bc3ddde5",
   "metadata": {},
   "outputs": [
    {
     "data": {
      "text/plain": [
       "array([0, 0, 0, ..., 0, 0, 0], dtype=int64)"
      ]
     },
     "execution_count": 11,
     "metadata": {},
     "output_type": "execute_result"
    }
   ],
   "source": [
    "vectors[0]"
   ]
  },
  {
   "cell_type": "code",
   "execution_count": 12,
   "id": "ad76ce5b",
   "metadata": {},
   "outputs": [],
   "source": [
    "from sklearn.metrics.pairwise import cosine_similarity"
   ]
  },
  {
   "cell_type": "code",
   "execution_count": 13,
   "id": "4429f5bf",
   "metadata": {},
   "outputs": [],
   "source": [
    "similarity = cosine_similarity(vectors)"
   ]
  },
  {
   "cell_type": "code",
   "execution_count": 14,
   "id": "0e47081c",
   "metadata": {},
   "outputs": [
    {
     "data": {
      "text/plain": [
       "array([0.24019223, 1.        , 0.38461538, ..., 0.        , 0.        ,\n",
       "       0.        ])"
      ]
     },
     "execution_count": 14,
     "metadata": {},
     "output_type": "execute_result"
    }
   ],
   "source": [
    "similarity[1]"
   ]
  },
  {
   "cell_type": "code",
   "execution_count": 15,
   "id": "e9e37d44",
   "metadata": {},
   "outputs": [],
   "source": [
    "def recommend(movie):\n",
    "    movie_index = df[df['movie_title']==movie].index[0]\n",
    "    distances = similarity[movie_index]\n",
    "    movie_list = sorted(list(enumerate(distances)),reverse=True,key=lambda x:x[1])[1:6]\n",
    "    \n",
    "    for i in movie_list:\n",
    "        print(df.iloc[i[0]].movie_title)\n",
    "        #print(i)"
   ]
  },
  {
   "cell_type": "code",
   "execution_count": null,
   "id": "0a1e24d4",
   "metadata": {},
   "outputs": [],
   "source": []
  },
  {
   "cell_type": "code",
   "execution_count": 20,
   "id": "e43f9a7c",
   "metadata": {},
   "outputs": [
    {
     "name": "stdout",
     "output_type": "stream",
     "text": [
      "Justice League\n",
      "Guardians of the Galaxy Vol. 2\n",
      "The Dark Tower\n",
      "Guardians\n",
      "Kong: Skull Island\n"
     ]
    }
   ],
   "source": [
    "recommend(\"Thor: Ragnarok\")"
   ]
  },
  {
   "cell_type": "code",
   "execution_count": 21,
   "id": "82432adf",
   "metadata": {},
   "outputs": [],
   "source": [
    "import pickle\n",
    "pickle.dump(df.to_dict(),open('movies_dict.pkl','wb'))"
   ]
  },
  {
   "cell_type": "code",
   "execution_count": 22,
   "id": "4f7a26b3",
   "metadata": {},
   "outputs": [],
   "source": [
    " pickle.dump(similarity,open('similarity.pkl','wb'))\n"
   ]
  },
  {
   "cell_type": "code",
   "execution_count": 23,
   "id": "6720b5b8",
   "metadata": {},
   "outputs": [
    {
     "data": {
      "text/html": [
       "<div>\n",
       "<style scoped>\n",
       "    .dataframe tbody tr th:only-of-type {\n",
       "        vertical-align: middle;\n",
       "    }\n",
       "\n",
       "    .dataframe tbody tr th {\n",
       "        vertical-align: top;\n",
       "    }\n",
       "\n",
       "    .dataframe thead th {\n",
       "        text-align: right;\n",
       "    }\n",
       "</style>\n",
       "<table border=\"1\" class=\"dataframe\">\n",
       "  <thead>\n",
       "    <tr style=\"text-align: right;\">\n",
       "      <th></th>\n",
       "      <th>director_name</th>\n",
       "      <th>actor_1_name</th>\n",
       "      <th>actor_2_name</th>\n",
       "      <th>actor_3_name</th>\n",
       "      <th>genres</th>\n",
       "      <th>movie_title</th>\n",
       "      <th>comb</th>\n",
       "    </tr>\n",
       "  </thead>\n",
       "  <tbody>\n",
       "    <tr>\n",
       "      <th>0</th>\n",
       "      <td>JoachimRønning</td>\n",
       "      <td>JohnnyDepp</td>\n",
       "      <td>JavierBardem</td>\n",
       "      <td>GeoffreyRush</td>\n",
       "      <td>adventure,action,fantasy,comedy</td>\n",
       "      <td>Pirates of the Caribbean: Dead Men Tell No Tales</td>\n",
       "      <td>johnni depp javier bardem geoffrey rush joachi...</td>\n",
       "    </tr>\n",
       "    <tr>\n",
       "      <th>1</th>\n",
       "      <td>ZackSnyder</td>\n",
       "      <td>BenAffleck</td>\n",
       "      <td>HenryCavill</td>\n",
       "      <td>GalGadot</td>\n",
       "      <td>action,adventure,fantasy,science fiction</td>\n",
       "      <td>Justice League</td>\n",
       "      <td>ben affleck henri cavil gal gadot zack snyder ...</td>\n",
       "    </tr>\n",
       "    <tr>\n",
       "      <th>2</th>\n",
       "      <td>TaikaWaititi</td>\n",
       "      <td>ChrisHemsworth</td>\n",
       "      <td>TomHiddleston</td>\n",
       "      <td>CateBlanchett</td>\n",
       "      <td>action,adventure,fantasy,science fiction</td>\n",
       "      <td>Thor: Ragnarok</td>\n",
       "      <td>chri hemsworth tom hiddleston cate blanchett t...</td>\n",
       "    </tr>\n",
       "    <tr>\n",
       "      <th>3</th>\n",
       "      <td>JamesGunn</td>\n",
       "      <td>ChrisPratt</td>\n",
       "      <td>ZoeSaldana</td>\n",
       "      <td>DaveBautista</td>\n",
       "      <td>action,adventure,comedy,science fiction</td>\n",
       "      <td>Guardians of the Galaxy Vol. 2</td>\n",
       "      <td>chri pratt zoe saldana dave bautista jame gunn...</td>\n",
       "    </tr>\n",
       "    <tr>\n",
       "      <th>4</th>\n",
       "      <td>SeanMcNamara</td>\n",
       "      <td>PierceBrosnan</td>\n",
       "      <td>WilliamHurt</td>\n",
       "      <td>BenjaminWalker</td>\n",
       "      <td>fantasy,action,adventure</td>\n",
       "      <td>The King's Daughter</td>\n",
       "      <td>pierc brosnan william hurt benjamin walker sea...</td>\n",
       "    </tr>\n",
       "  </tbody>\n",
       "</table>\n",
       "</div>"
      ],
      "text/plain": [
       "    director_name    actor_1_name   actor_2_name    actor_3_name  \\\n",
       "0  JoachimRønning      JohnnyDepp   JavierBardem    GeoffreyRush   \n",
       "1      ZackSnyder      BenAffleck    HenryCavill        GalGadot   \n",
       "2    TaikaWaititi  ChrisHemsworth  TomHiddleston   CateBlanchett   \n",
       "3       JamesGunn      ChrisPratt     ZoeSaldana    DaveBautista   \n",
       "4    SeanMcNamara   PierceBrosnan    WilliamHurt  BenjaminWalker   \n",
       "\n",
       "                                     genres  \\\n",
       "0           adventure,action,fantasy,comedy   \n",
       "1  action,adventure,fantasy,science fiction   \n",
       "2  action,adventure,fantasy,science fiction   \n",
       "3   action,adventure,comedy,science fiction   \n",
       "4                  fantasy,action,adventure   \n",
       "\n",
       "                                        movie_title  \\\n",
       "0  Pirates of the Caribbean: Dead Men Tell No Tales   \n",
       "1                                    Justice League   \n",
       "2                                    Thor: Ragnarok   \n",
       "3                    Guardians of the Galaxy Vol. 2   \n",
       "4                               The King's Daughter   \n",
       "\n",
       "                                                comb  \n",
       "0  johnni depp javier bardem geoffrey rush joachi...  \n",
       "1  ben affleck henri cavil gal gadot zack snyder ...  \n",
       "2  chri hemsworth tom hiddleston cate blanchett t...  \n",
       "3  chri pratt zoe saldana dave bautista jame gunn...  \n",
       "4  pierc brosnan william hurt benjamin walker sea...  "
      ]
     },
     "execution_count": 23,
     "metadata": {},
     "output_type": "execute_result"
    }
   ],
   "source": [
    "df.head()"
   ]
  },
  {
   "cell_type": "code",
   "execution_count": null,
   "id": "d7ebce9c",
   "metadata": {},
   "outputs": [],
   "source": []
  }
 ],
 "metadata": {
  "kernelspec": {
   "display_name": "Python 3",
   "language": "python",
   "name": "python3"
  },
  "language_info": {
   "codemirror_mode": {
    "name": "ipython",
    "version": 3
   },
   "file_extension": ".py",
   "mimetype": "text/x-python",
   "name": "python",
   "nbconvert_exporter": "python",
   "pygments_lexer": "ipython3",
   "version": "3.8.8"
  }
 },
 "nbformat": 4,
 "nbformat_minor": 5
}
