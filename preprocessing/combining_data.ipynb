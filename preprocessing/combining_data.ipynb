{
 "cells": [
  {
   "cell_type": "code",
   "execution_count": 1,
   "id": "831a09dc",
   "metadata": {},
   "outputs": [],
   "source": [
    "import pandas as pd\n",
    "import numpy as np"
   ]
  },
  {
   "cell_type": "code",
   "execution_count": 2,
   "id": "51c2613b",
   "metadata": {},
   "outputs": [],
   "source": [
    "df_2018 = pd.read_csv('2018_data.csv')\n",
    "df_2019 = pd.read_csv('2019_data.csv')\n",
    "df_2020 = pd.read_csv('2020_data.csv')"
   ]
  },
  {
   "cell_type": "code",
   "execution_count": 3,
   "id": "1a08d6d6",
   "metadata": {},
   "outputs": [],
   "source": [
    "old_data = pd.read_csv('final_data.csv')"
   ]
  },
  {
   "cell_type": "code",
   "execution_count": 4,
   "id": "1aa0ff3c",
   "metadata": {},
   "outputs": [
    {
     "data": {
      "text/plain": [
       "array([ True,  True,  True,  True,  True,  True,  True])"
      ]
     },
     "execution_count": 4,
     "metadata": {},
     "output_type": "execute_result"
    }
   ],
   "source": [
    "df_2020.columns ==df_2018.columns"
   ]
  },
  {
   "cell_type": "code",
   "execution_count": 5,
   "id": "14805e9b",
   "metadata": {},
   "outputs": [],
   "source": [
    "final_df = pd.concat([old_data,df_2018,df_2019,df_2020])"
   ]
  },
  {
   "cell_type": "code",
   "execution_count": 6,
   "id": "0be30533",
   "metadata": {},
   "outputs": [],
   "source": [
    "final_df.dropna(how='any',inplace=True)"
   ]
  },
  {
   "cell_type": "code",
   "execution_count": 7,
   "id": "2f8c2cff",
   "metadata": {},
   "outputs": [
    {
     "data": {
      "text/plain": [
       "0"
      ]
     },
     "execution_count": 7,
     "metadata": {},
     "output_type": "execute_result"
    }
   ],
   "source": [
    "final_df.duplicated().sum()"
   ]
  },
  {
   "cell_type": "code",
   "execution_count": 8,
   "id": "8ba1337a",
   "metadata": {},
   "outputs": [
    {
     "data": {
      "text/html": [
       "<div>\n",
       "<style scoped>\n",
       "    .dataframe tbody tr th:only-of-type {\n",
       "        vertical-align: middle;\n",
       "    }\n",
       "\n",
       "    .dataframe tbody tr th {\n",
       "        vertical-align: top;\n",
       "    }\n",
       "\n",
       "    .dataframe thead th {\n",
       "        text-align: right;\n",
       "    }\n",
       "</style>\n",
       "<table border=\"1\" class=\"dataframe\">\n",
       "  <thead>\n",
       "    <tr style=\"text-align: right;\">\n",
       "      <th></th>\n",
       "      <th>director_name</th>\n",
       "      <th>actor_1_name</th>\n",
       "      <th>actor_2_name</th>\n",
       "      <th>actor_3_name</th>\n",
       "      <th>genres</th>\n",
       "      <th>movie_title</th>\n",
       "      <th>comb</th>\n",
       "    </tr>\n",
       "  </thead>\n",
       "  <tbody>\n",
       "    <tr>\n",
       "      <th>0</th>\n",
       "      <td>JoachimRønning</td>\n",
       "      <td>JohnnyDepp</td>\n",
       "      <td>JavierBardem</td>\n",
       "      <td>GeoffreyRush</td>\n",
       "      <td>adventure,action,fantasy,comedy</td>\n",
       "      <td>Pirates of the Caribbean: Dead Men Tell No Tales</td>\n",
       "      <td>Johnny Depp Javier Bardem Geoffrey Rush Joachi...</td>\n",
       "    </tr>\n",
       "    <tr>\n",
       "      <th>1</th>\n",
       "      <td>ZackSnyder</td>\n",
       "      <td>BenAffleck</td>\n",
       "      <td>HenryCavill</td>\n",
       "      <td>GalGadot</td>\n",
       "      <td>action,adventure,fantasy,science fiction</td>\n",
       "      <td>Justice League</td>\n",
       "      <td>Ben Affleck Henry Cavill Gal Gadot Zack Snyder...</td>\n",
       "    </tr>\n",
       "    <tr>\n",
       "      <th>2</th>\n",
       "      <td>TaikaWaititi</td>\n",
       "      <td>ChrisHemsworth</td>\n",
       "      <td>TomHiddleston</td>\n",
       "      <td>CateBlanchett</td>\n",
       "      <td>action,adventure,fantasy,science fiction</td>\n",
       "      <td>Thor: Ragnarok</td>\n",
       "      <td>Chris Hemsworth Tom Hiddleston Cate Blanchett ...</td>\n",
       "    </tr>\n",
       "    <tr>\n",
       "      <th>3</th>\n",
       "      <td>JamesGunn</td>\n",
       "      <td>ChrisPratt</td>\n",
       "      <td>ZoeSaldana</td>\n",
       "      <td>DaveBautista</td>\n",
       "      <td>action,adventure,comedy,science fiction</td>\n",
       "      <td>Guardians of the Galaxy Vol. 2</td>\n",
       "      <td>Chris Pratt Zoe Saldana Dave Bautista James Gu...</td>\n",
       "    </tr>\n",
       "    <tr>\n",
       "      <th>4</th>\n",
       "      <td>SeanMcNamara</td>\n",
       "      <td>PierceBrosnan</td>\n",
       "      <td>WilliamHurt</td>\n",
       "      <td>BenjaminWalker</td>\n",
       "      <td>fantasy,action,adventure</td>\n",
       "      <td>The King's Daughter</td>\n",
       "      <td>Pierce Brosnan William Hurt Benjamin Walker Se...</td>\n",
       "    </tr>\n",
       "  </tbody>\n",
       "</table>\n",
       "</div>"
      ],
      "text/plain": [
       "    director_name    actor_1_name   actor_2_name    actor_3_name  \\\n",
       "0  JoachimRønning      JohnnyDepp   JavierBardem    GeoffreyRush   \n",
       "1      ZackSnyder      BenAffleck    HenryCavill        GalGadot   \n",
       "2    TaikaWaititi  ChrisHemsworth  TomHiddleston   CateBlanchett   \n",
       "3       JamesGunn      ChrisPratt     ZoeSaldana    DaveBautista   \n",
       "4    SeanMcNamara   PierceBrosnan    WilliamHurt  BenjaminWalker   \n",
       "\n",
       "                                     genres  \\\n",
       "0           adventure,action,fantasy,comedy   \n",
       "1  action,adventure,fantasy,science fiction   \n",
       "2  action,adventure,fantasy,science fiction   \n",
       "3   action,adventure,comedy,science fiction   \n",
       "4                  fantasy,action,adventure   \n",
       "\n",
       "                                        movie_title  \\\n",
       "0  Pirates of the Caribbean: Dead Men Tell No Tales   \n",
       "1                                    Justice League   \n",
       "2                                    Thor: Ragnarok   \n",
       "3                    Guardians of the Galaxy Vol. 2   \n",
       "4                               The King's Daughter   \n",
       "\n",
       "                                                comb  \n",
       "0  Johnny Depp Javier Bardem Geoffrey Rush Joachi...  \n",
       "1  Ben Affleck Henry Cavill Gal Gadot Zack Snyder...  \n",
       "2  Chris Hemsworth Tom Hiddleston Cate Blanchett ...  \n",
       "3  Chris Pratt Zoe Saldana Dave Bautista James Gu...  \n",
       "4  Pierce Brosnan William Hurt Benjamin Walker Se...  "
      ]
     },
     "execution_count": 8,
     "metadata": {},
     "output_type": "execute_result"
    }
   ],
   "source": [
    "final_df.head()"
   ]
  },
  {
   "cell_type": "code",
   "execution_count": 9,
   "id": "0da56721",
   "metadata": {},
   "outputs": [],
   "source": [
    "final_df.to_csv('movies_data.csv',index=False)"
   ]
  },
  {
   "cell_type": "code",
   "execution_count": 10,
   "id": "0c7ec0bb",
   "metadata": {
    "scrolled": true
   },
   "outputs": [
    {
     "data": {
      "text/plain": [
       "(1231, 7)"
      ]
     },
     "execution_count": 10,
     "metadata": {},
     "output_type": "execute_result"
    }
   ],
   "source": [
    "final_df.shape"
   ]
  },
  {
   "cell_type": "code",
   "execution_count": null,
   "id": "a4716aa2",
   "metadata": {},
   "outputs": [],
   "source": []
  }
 ],
 "metadata": {
  "kernelspec": {
   "display_name": "Python 3",
   "language": "python",
   "name": "python3"
  },
  "language_info": {
   "codemirror_mode": {
    "name": "ipython",
    "version": 3
   },
   "file_extension": ".py",
   "mimetype": "text/x-python",
   "name": "python",
   "nbconvert_exporter": "python",
   "pygments_lexer": "ipython3",
   "version": "3.8.8"
  }
 },
 "nbformat": 4,
 "nbformat_minor": 5
}
