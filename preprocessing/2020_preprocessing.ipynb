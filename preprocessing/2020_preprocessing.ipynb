{
 "cells": [
  {
   "cell_type": "code",
   "execution_count": 1,
   "id": "8eba4d5f",
   "metadata": {},
   "outputs": [],
   "source": [
    "import pandas as pd\n",
    "import numpy as np\n",
    "import requests\n",
    "import bs4 as bs\n",
    "import urllib.request"
   ]
  },
  {
   "cell_type": "code",
   "execution_count": 2,
   "id": "e34e4b6a",
   "metadata": {},
   "outputs": [],
   "source": [
    "link = \"https://en.wikipedia.org/wiki/List_of_American_films_of_2020\""
   ]
  },
  {
   "cell_type": "code",
   "execution_count": 3,
   "id": "8c2b4df8",
   "metadata": {},
   "outputs": [],
   "source": [
    "source = urllib.request.urlopen(link).read()\n",
    "soup = bs.BeautifulSoup(source,'lxml')"
   ]
  },
  {
   "cell_type": "code",
   "execution_count": 4,
   "id": "5dda6499",
   "metadata": {},
   "outputs": [],
   "source": [
    "tables = soup.find_all('table',class_='wikitable sortable')"
   ]
  },
  {
   "cell_type": "code",
   "execution_count": 5,
   "id": "e116893d",
   "metadata": {},
   "outputs": [],
   "source": [
    "df1 = pd.read_html(str(tables[0]))[0]\n",
    "df2 = pd.read_html(str(tables[1]))[0]\n",
    "df3 = pd.read_html(str(tables[2]))[0]\n",
    "df4 = pd.read_html(str(tables[3]).replace(\"'1\\\"\\'\",'\"1\"'))[0] # avoided \"ValueError: invalid literal for int() with base 10: '1\"'"
   ]
  },
  {
   "cell_type": "code",
   "execution_count": 6,
   "id": "b773b524",
   "metadata": {},
   "outputs": [],
   "source": [
    "df1.drop(columns=['Opening','Opening.1','Production company','.mw-parser-output .tooltip-dotted{border-bottom:1px dotted;cursor:help}Ref.'],inplace=True)\n",
    "df2.drop(columns=['Opening','Opening.1','Production company','Ref.'],inplace=True)\n",
    "df3.drop(columns=['Opening','Opening.1','Production company','Ref.'],inplace=True)\n",
    "df4.drop(columns=['Opening','Opening.1','Production company','Ref.'],inplace=True)"
   ]
  },
  {
   "cell_type": "code",
   "execution_count": 7,
   "id": "698e4957",
   "metadata": {},
   "outputs": [],
   "source": [
    "df1 = df1.rename({'Title':'movie_title','Cast and crew':'cast_and_crew'},axis=1)\n",
    "df2 = df2.rename({'Title':'movie_title','Cast and crew':'cast_and_crew'},axis=1)\n",
    "df3 = df3.rename({'Title':'movie_title','Cast and crew':'cast_and_crew'},axis=1)\n",
    "df4 = df4.rename({'Title':'movie_title','Cast and crew':'cast_and_crew'},axis=1)"
   ]
  },
  {
   "cell_type": "code",
   "execution_count": 8,
   "id": "86f22f47",
   "metadata": {},
   "outputs": [],
   "source": [
    "final_df = df1.append(df2.append(df3.append(df4,ignore_index=True),ignore_index=True),ignore_index=True)"
   ]
  },
  {
   "cell_type": "code",
   "execution_count": 9,
   "id": "19a71157",
   "metadata": {},
   "outputs": [],
   "source": [
    "final_df = final_df.drop(index=127).reset_index()"
   ]
  },
  {
   "cell_type": "code",
   "execution_count": 10,
   "id": "65748c43",
   "metadata": {},
   "outputs": [],
   "source": [
    "final_df.drop(columns='index',inplace=True)"
   ]
  },
  {
   "cell_type": "code",
   "execution_count": 11,
   "id": "90f6824a",
   "metadata": {},
   "outputs": [],
   "source": [
    "from tmdbv3api import TMDb\n",
    "from tmdbv3api import Movie\n",
    "import requests\n",
    "import json"
   ]
  },
  {
   "cell_type": "code",
   "execution_count": 12,
   "id": "7ebe4e58",
   "metadata": {},
   "outputs": [],
   "source": [
    "from tmdbv3api import TMDb\n",
    "tmdb = TMDb()\n",
    "tmdb.api_key = '4f482c58561643445d7340848e36b5e8'"
   ]
  },
  {
   "cell_type": "code",
   "execution_count": 13,
   "id": "0cb6d48c",
   "metadata": {},
   "outputs": [],
   "source": [
    "from tmdbv3api import Movie\n",
    "tmdb_movie = Movie()\n",
    "def get_genre(x):\n",
    "    genres = []\n",
    "    result = tmdb_movie.search(x)\n",
    "    movie_id = result[0].id\n",
    "    response = requests.get('https://api.themoviedb.org/3/movie/{}?api_key={}'.format(movie_id,tmdb.api_key))\n",
    "    data_json = response.json()\n",
    "    if data_json['genres']:\n",
    "        genre_str = \" \" \n",
    "        for i in range(0,len(data_json['genres'])):\n",
    "            genres.append(data_json['genres'][i]['name'])\n",
    "        genre_list = str(genres)\n",
    "        return genre_list\n",
    "#         return genre_str.join(genre_list)\n",
    "    else:\n",
    "        np.NaN"
   ]
  },
  {
   "cell_type": "code",
   "execution_count": 14,
   "id": "20fd3c71",
   "metadata": {},
   "outputs": [],
   "source": [
    "final_df['Genre'] = final_df['movie_title'].map(lambda x: get_genre(str(x)))"
   ]
  },
  {
   "cell_type": "code",
   "execution_count": 15,
   "id": "50044794",
   "metadata": {},
   "outputs": [],
   "source": [
    "def list_to_string(x):\n",
    "    if x:\n",
    "        return x.replace(',', '').replace('[','').replace(']','').replace(\"'\",'')\n",
    "    else:\n",
    "        return np.NaN"
   ]
  },
  {
   "cell_type": "code",
   "execution_count": 16,
   "id": "bd911565",
   "metadata": {},
   "outputs": [],
   "source": [
    "final_df['genres'] = final_df['Genre'].map(lambda x: list_to_string(x))"
   ]
  },
  {
   "cell_type": "code",
   "execution_count": 17,
   "id": "2e89ba13",
   "metadata": {},
   "outputs": [],
   "source": [
    "final_df.drop(columns='Genre',inplace=True)"
   ]
  },
  {
   "cell_type": "code",
   "execution_count": 18,
   "id": "14c43a46",
   "metadata": {},
   "outputs": [],
   "source": [
    "final_df['genres'] = final_df['genres'].str.lower()"
   ]
  },
  {
   "cell_type": "code",
   "execution_count": 19,
   "id": "fba7e23c",
   "metadata": {},
   "outputs": [],
   "source": [
    "s1 = list(final_df['cast_and_crew'][30])\n",
    "s1[18] ='/'\n",
    "s1[19]=''"
   ]
  },
  {
   "cell_type": "code",
   "execution_count": 20,
   "id": "c57e86ae",
   "metadata": {},
   "outputs": [],
   "source": [
    "final_df['cast_and_crew'][30] = \"\".join(s1)"
   ]
  },
  {
   "cell_type": "code",
   "execution_count": 21,
   "id": "e83fee86",
   "metadata": {},
   "outputs": [],
   "source": [
    "def get_director(x):\n",
    "    if \" (director)\" in x:\n",
    "        return x.split(\" (director)\")[0]\n",
    "    elif \" (directors)\" in x:\n",
    "        return x.split(\" (directors)\")[0]\n",
    "    elif \" (directors/screenplay)\" in x:\n",
    "        return x.split(\" (directors/screenplay)\")[0]\n",
    "    else:\n",
    "        return x.split(\" (director/screenplay)\")[0]"
   ]
  },
  {
   "cell_type": "code",
   "execution_count": 22,
   "id": "0841496a",
   "metadata": {},
   "outputs": [],
   "source": [
    "final_df['director_name'] = final_df['cast_and_crew'].map(lambda x: get_director(str(x)))"
   ]
  },
  {
   "cell_type": "code",
   "execution_count": 23,
   "id": "195f3678",
   "metadata": {},
   "outputs": [],
   "source": [
    "def get_actor_1(x):\n",
    "    if '(screenplay)' in x:\n",
    "        return ((x.split(\"(screenplay); \")[-1]).split(',')[0])\n",
    "    elif \"(director)\" in x:\n",
    "        return ((x.split(\"(director); \")[-1]).split(',')[0])\n",
    "    else:\n",
    "        return ((x.split(\"; \")[-1]).split(', ')[0])"
   ]
  },
  {
   "cell_type": "code",
   "execution_count": 24,
   "id": "178f0730",
   "metadata": {},
   "outputs": [],
   "source": [
    "final_df['actor_1_name'] = final_df['cast_and_crew'].map(lambda x: get_actor_1(str(x)))"
   ]
  },
  {
   "cell_type": "code",
   "execution_count": 25,
   "id": "4cc9b0d9",
   "metadata": {},
   "outputs": [],
   "source": [
    "def get_actor2(x):\n",
    "    if len((x.split(\"screenplay); \")[-1]).split(\", \")) < 2:\n",
    "        return np.NaN\n",
    "    else:\n",
    "        return ((x.split(\"screenplay); \")[-1]).split(\", \")[1])"
   ]
  },
  {
   "cell_type": "code",
   "execution_count": 26,
   "id": "636e7227",
   "metadata": {},
   "outputs": [],
   "source": [
    "final_df['actor_2_name'] = final_df['cast_and_crew'].map(lambda x: get_actor2(str(x)))"
   ]
  },
  {
   "cell_type": "code",
   "execution_count": 27,
   "id": "093b69cf",
   "metadata": {},
   "outputs": [],
   "source": [
    "def get_actor3(x):\n",
    "    if len((x.split(\"screenplay); \")[-1]).split(\", \")) < 3:\n",
    "        return np.NaN\n",
    "    else:\n",
    "        return ((x.split(\"screenplay); \")[-1]).split(\", \")[2])"
   ]
  },
  {
   "cell_type": "code",
   "execution_count": 28,
   "id": "0607c837",
   "metadata": {},
   "outputs": [],
   "source": [
    "final_df['actor_3_name'] = final_df['cast_and_crew'].map(lambda x: get_actor3(str(x)))"
   ]
  },
  {
   "cell_type": "code",
   "execution_count": 29,
   "id": "1367ede7",
   "metadata": {},
   "outputs": [],
   "source": [
    "final_df.drop(columns='cast_and_crew',inplace=True)"
   ]
  },
  {
   "cell_type": "code",
   "execution_count": 30,
   "id": "4b7850bd",
   "metadata": {},
   "outputs": [
    {
     "data": {
      "text/plain": [
       "movie_title       0\n",
       "genres            0\n",
       "director_name     0\n",
       "actor_1_name      0\n",
       "actor_2_name      4\n",
       "actor_3_name     27\n",
       "dtype: int64"
      ]
     },
     "execution_count": 30,
     "metadata": {},
     "output_type": "execute_result"
    }
   ],
   "source": [
    "final_df.isnull().sum()"
   ]
  },
  {
   "cell_type": "code",
   "execution_count": 31,
   "id": "e40aedb9",
   "metadata": {},
   "outputs": [
    {
     "ename": "NameError",
     "evalue": "name 'temp_1' is not defined",
     "output_type": "error",
     "traceback": [
      "\u001b[1;31m---------------------------------------------------------------------------\u001b[0m",
      "\u001b[1;31mNameError\u001b[0m                                 Traceback (most recent call last)",
      "\u001b[1;32m<ipython-input-31-dd5beebc898c>\u001b[0m in \u001b[0;36m<module>\u001b[1;34m\u001b[0m\n\u001b[0;32m      1\u001b[0m \u001b[0mgenres\u001b[0m \u001b[1;33m=\u001b[0m \u001b[1;33m[\u001b[0m\u001b[1;33m]\u001b[0m\u001b[1;33m\u001b[0m\u001b[1;33m\u001b[0m\u001b[0m\n\u001b[1;32m----> 2\u001b[1;33m \u001b[1;32mfor\u001b[0m \u001b[0mi\u001b[0m \u001b[1;32min\u001b[0m \u001b[0mtemp_1\u001b[0m\u001b[1;33m:\u001b[0m\u001b[1;33m\u001b[0m\u001b[1;33m\u001b[0m\u001b[0m\n\u001b[0m\u001b[0;32m      3\u001b[0m     \u001b[0mresult\u001b[0m \u001b[1;33m=\u001b[0m \u001b[0mmovie\u001b[0m\u001b[1;33m.\u001b[0m\u001b[0msearch\u001b[0m\u001b[1;33m(\u001b[0m\u001b[0mi\u001b[0m\u001b[1;33m)\u001b[0m\u001b[1;33m\u001b[0m\u001b[1;33m\u001b[0m\u001b[0m\n\u001b[0;32m      4\u001b[0m     \u001b[0mmovie_id\u001b[0m \u001b[1;33m=\u001b[0m \u001b[0mresult\u001b[0m\u001b[1;33m[\u001b[0m\u001b[1;36m0\u001b[0m\u001b[1;33m]\u001b[0m\u001b[1;33m.\u001b[0m\u001b[0mid\u001b[0m\u001b[1;33m\u001b[0m\u001b[1;33m\u001b[0m\u001b[0m\n\u001b[0;32m      5\u001b[0m     \u001b[0mresponse\u001b[0m \u001b[1;33m=\u001b[0m \u001b[0mrequests\u001b[0m\u001b[1;33m.\u001b[0m\u001b[0mget\u001b[0m\u001b[1;33m(\u001b[0m\u001b[1;34m'https://api.themoviedb.org/3/movie/{}?api_key=4f482c58561643445d7340848e36b5e8'\u001b[0m\u001b[1;33m.\u001b[0m\u001b[0mformat\u001b[0m\u001b[1;33m(\u001b[0m\u001b[0mmovie_id\u001b[0m\u001b[1;33m)\u001b[0m\u001b[1;33m)\u001b[0m\u001b[1;33m\u001b[0m\u001b[1;33m\u001b[0m\u001b[0m\n",
      "\u001b[1;31mNameError\u001b[0m: name 'temp_1' is not defined"
     ]
    }
   ],
   "source": [
    "genres = []\n",
    "for i in temp_1:\n",
    "    result = movie.search(i)\n",
    "    movie_id = result[0].id\n",
    "    response = requests.get('https://api.themoviedb.org/3/movie/{}?api_key=4f482c58561643445d7340848e36b5e8'.format(movie_id))\n",
    "    data_json = response.json()\n",
    "    if data_json['genres']:\n",
    "        genre_str = \" \" \n",
    "        for i in range(0,len(data_json['genres'])):\n",
    "            genres.append(data_json['genres'][i]['name'])\n",
    "        genre_list = str(genres)\n",
    "        print(genre_list)"
   ]
  },
  {
   "cell_type": "code",
   "execution_count": null,
   "id": "c36fcb28",
   "metadata": {},
   "outputs": [],
   "source": [
    "result = movie.search(\"The Grudge\")\n",
    "genres=[]\n",
    "movie_id = result[0].id\n",
    "response = requests.get('https://api.themoviedb.org/3/movie/{}?api_key=4f482c58561643445d7340848e36b5e8'.format(movie_id))\n",
    "data_json = response.json()\n",
    "#print(data_json['genres'])\n",
    "if data_json['genres']:\n",
    "    for i in data_json['genres']:\n",
    "        genres.append(i['name'])\n",
    "    print(genres)\n",
    "        #genres.append(data_json['genres'][i]['name'])\n",
    "    #genre_list = str(genres)\n",
    "    #print(genres)"
   ]
  },
  {
   "cell_type": "code",
   "execution_count": null,
   "id": "6d84ac2b",
   "metadata": {
    "scrolled": true
   },
   "outputs": [],
   "source": [
    "def get_genre(movies):\n",
    "    movie = Movie()\n",
    "    result = movie.search(movies)\n",
    "    genres=[]\n",
    "    movie_id = result[0].id\n",
    "    response = requests.get('https://api.themoviedb.org/3/movie/{}?api_key=4f482c58561643445d7340848e36b5e8'.format(movie_id))\n",
    "    data_json = response.json()\n",
    "    #print(data_json['genres'])\n",
    "    #if data_json['genres']:\n",
    "    for i in data_json['genres']:\n",
    "        genres.append(i['name'])\n",
    "    return genres\n",
    "            #genres.append(data_json['genres'][i]['name'])\n",
    "        #genre_list = str(genres)\n",
    "        #print(genres)"
   ]
  },
  {
   "cell_type": "code",
   "execution_count": null,
   "id": "fa1120a8",
   "metadata": {},
   "outputs": [],
   "source": [
    "from tmdbv3api import Movie\n",
    "movie = Movie()\n",
    "def get_genre(x):\n",
    "    result = movie.search(x)\n",
    "    genres = []\n",
    "    try:\n",
    "        movie_id = result[0].id\n",
    "    except Exception as e:\n",
    "        print(e)\n",
    "    response = requests.get('https://api.themoviedb.org/3/movie/{}?api_key=4f482c58561643445d7340848e36b5e8'.format(movie_id))\n",
    "    data_json = response.json()\n",
    "    #if data_json['genres']:\n",
    "    for i in data_json['genres']:\n",
    "        genres.append(i['name'])\n",
    "        #genre_list = str(genres)\n",
    "    return genres\n",
    "#         return genre_str.join(genre_list)\n",
    "    #else:\n",
    "       # np.NaN"
   ]
  },
  {
   "cell_type": "code",
   "execution_count": null,
   "id": "56910bbc",
   "metadata": {},
   "outputs": [],
   "source": [
    "new_df20 = final_df.loc[:,['director_name','actor_1_name','actor_2_name','actor_3_name','genres','movie_title']]"
   ]
  },
  {
   "cell_type": "code",
   "execution_count": null,
   "id": "068a7f41",
   "metadata": {},
   "outputs": [],
   "source": [
    "new_df20.isnull().sum()"
   ]
  },
  {
   "cell_type": "code",
   "execution_count": null,
   "id": "696481d2",
   "metadata": {},
   "outputs": [],
   "source": [
    "new_df20['actor_2_name'] = new_df20['actor_2_name'].replace(np.nan, 'unknown')\n",
    "new_df20['actor_3_name'] = new_df20['actor_3_name'].replace(np.nan, 'unknown')"
   ]
  },
  {
   "cell_type": "code",
   "execution_count": null,
   "id": "52beade7",
   "metadata": {},
   "outputs": [],
   "source": [
    "director_name = []\n",
    "for i in new_df20['director_name']:\n",
    "    director_name.append(i.replace(\" \",\"\"))"
   ]
  },
  {
   "cell_type": "code",
   "execution_count": null,
   "id": "f8b9ac6a",
   "metadata": {},
   "outputs": [],
   "source": [
    "actor_1_name = []\n",
    "for i in new_df20['actor_1_name']:\n",
    "    actor_1_name.append(i.replace(\" \",\"\"))"
   ]
  },
  {
   "cell_type": "code",
   "execution_count": null,
   "id": "83013822",
   "metadata": {},
   "outputs": [],
   "source": [
    "actor_2_name = []\n",
    "for i in new_df20['actor_2_name']:\n",
    "    actor_2_name.append(i.replace(\" \",\"\"))"
   ]
  },
  {
   "cell_type": "code",
   "execution_count": null,
   "id": "b1f7e4c7",
   "metadata": {},
   "outputs": [],
   "source": [
    "actor_3_name = []\n",
    "for i in new_df20['actor_3_name']:\n",
    "    actor_3_name.append(i.replace(\" \",\"\"))"
   ]
  },
  {
   "cell_type": "code",
   "execution_count": null,
   "id": "a0dbcd88",
   "metadata": {},
   "outputs": [],
   "source": [
    "new_df20['director_name'] = director_name\n",
    "new_df20['actor_1_name'] = actor_1_name\n",
    "new_df20['actor_2_name'] = actor_2_name\n",
    "new_df20['actor_3_name'] = actor_3_name"
   ]
  },
  {
   "cell_type": "code",
   "execution_count": null,
   "id": "0a7256be",
   "metadata": {},
   "outputs": [],
   "source": [
    "new_df20['comb'] = new_df20['actor_1_name'] + ' ' + new_df20['actor_2_name'] + ' '+ new_df20['actor_3_name'] + ' '+ new_df20['director_name'] +' ' + new_df20['genres']"
   ]
  },
  {
   "cell_type": "code",
   "execution_count": null,
   "id": "1858efab",
   "metadata": {},
   "outputs": [],
   "source": [
    "new_df20.head()"
   ]
  },
  {
   "cell_type": "code",
   "execution_count": null,
   "id": "c61e89d1",
   "metadata": {},
   "outputs": [],
   "source": [
    "new_df20.to_csv('2020_data.csv',index=False)"
   ]
  },
  {
   "cell_type": "code",
   "execution_count": null,
   "id": "5ac72596",
   "metadata": {},
   "outputs": [],
   "source": []
  }
 ],
 "metadata": {
  "kernelspec": {
   "display_name": "Python 3",
   "language": "python",
   "name": "python3"
  },
  "language_info": {
   "codemirror_mode": {
    "name": "ipython",
    "version": 3
   },
   "file_extension": ".py",
   "mimetype": "text/x-python",
   "name": "python",
   "nbconvert_exporter": "python",
   "pygments_lexer": "ipython3",
   "version": "3.8.8"
  }
 },
 "nbformat": 4,
 "nbformat_minor": 5
}
